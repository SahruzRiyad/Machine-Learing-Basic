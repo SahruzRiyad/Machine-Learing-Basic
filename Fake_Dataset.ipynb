{
 "cells": [
  {
   "cell_type": "code",
   "execution_count": 12,
   "id": "add85ab9",
   "metadata": {},
   "outputs": [
    {
     "data": {
      "text/plain": [
       "array([[71.43353891466938, 54, 'x'],\n",
       "       [13.715349208664108, 55, 'i'],\n",
       "       [17.62848015091727, 10, 'z'],\n",
       "       ...,\n",
       "       [88.44079150827167, 15, 'p'],\n",
       "       [71.08361998283945, 81, 'k'],\n",
       "       [81.71525994567992, 33, 'w']], dtype=object)"
      ]
     },
     "execution_count": 12,
     "metadata": {},
     "output_type": "execute_result"
    }
   ],
   "source": [
    "import numpy as np\n",
    "import random\n",
    "import string\n",
    "\n",
    "arr = np.empty((1000,3) , dtype = 'O')\n",
    "for i in range(0,1000):\n",
    "    arr[i][0] = np.random.uniform(0,100)\n",
    "    arr[i][1] = np.random.randint(0,100)\n",
    "    arr[i][2] = random.choice(string.ascii_lowercase)\n",
    "arr"
   ]
  },
  {
   "cell_type": "code",
   "execution_count": null,
   "id": "17c308c7",
   "metadata": {},
   "outputs": [],
   "source": []
  }
 ],
 "metadata": {
  "kernelspec": {
   "display_name": "Python 3 (ipykernel)",
   "language": "python",
   "name": "python3"
  },
  "language_info": {
   "codemirror_mode": {
    "name": "ipython",
    "version": 3
   },
   "file_extension": ".py",
   "mimetype": "text/x-python",
   "name": "python",
   "nbconvert_exporter": "python",
   "pygments_lexer": "ipython3",
   "version": "3.8.10"
  }
 },
 "nbformat": 4,
 "nbformat_minor": 5
}
