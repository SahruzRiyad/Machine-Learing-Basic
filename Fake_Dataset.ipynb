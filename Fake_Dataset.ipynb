{
 "cells": [
  {
   "cell_type": "code",
   "execution_count": 30,
   "id": "2f38577e",
   "metadata": {},
   "outputs": [
    {
     "data": {
      "text/plain": [
       "array([[57.136985278676164, 28, 'r'],\n",
       "       [17.26841502108205, 43, 'i'],\n",
       "       [10.548067010594153, 67, 'a'],\n",
       "       ...,\n",
       "       [56.279188880007645, 82, 'd'],\n",
       "       [18.169799410659916, 49, 'o'],\n",
       "       [52.46660878510485, 13, 's']], dtype=object)"
      ]
     },
     "execution_count": 30,
     "metadata": {},
     "output_type": "execute_result"
    }
   ],
   "source": [
    "import numpy as np\n",
    "import random\n",
    "import string\n",
    "\n",
    "arr = np.empty((1000,3) , dtype = 'O')\n",
    "arr[:,:1] = np.random.uniform(0,100,1000).reshape(1000,1)\n",
    "arr[:,1:2] = np.random.randint(0,100,1000).reshape(1000,1)\n",
    "arr[:,2:3] = np.array(random.choices(string.ascii_lowercase,k = 1000)).reshape(1000,1)\n",
    "arr"
   ]
  },
  {
   "cell_type": "code",
   "execution_count": null,
   "id": "3d1773e2",
   "metadata": {},
   "outputs": [],
   "source": []
  }
 ],
 "metadata": {
  "kernelspec": {
   "display_name": "Python 3 (ipykernel)",
   "language": "python",
   "name": "python3"
  },
  "language_info": {
   "codemirror_mode": {
    "name": "ipython",
    "version": 3
   },
   "file_extension": ".py",
   "mimetype": "text/x-python",
   "name": "python",
   "nbconvert_exporter": "python",
   "pygments_lexer": "ipython3",
   "version": "3.8.10"
  }
 },
 "nbformat": 4,
 "nbformat_minor": 5
}
